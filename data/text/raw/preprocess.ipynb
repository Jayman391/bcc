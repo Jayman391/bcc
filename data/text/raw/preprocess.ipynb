{
 "cells": [
  {
   "cell_type": "code",
   "execution_count": 63,
   "metadata": {},
   "outputs": [
    {
     "name": "stdout",
     "output_type": "stream",
     "text": [
      "Answer.category.labels\n",
      "Vaccinated/planning to vaccinate                        529\n",
      "No information about the author’s vaccine intentions    394\n",
      "Not vaccinated/not planning to vaccinate                 97\n",
      "Not about vaccines                                       26\n",
      "Name: count, dtype: int64\n",
      "['Vaccinated/planning to vaccinate'\n",
      " 'No information about the author’s vaccine intentions'\n",
      " 'Not vaccinated/not planning to vaccinate']\n",
      "Answer.category.labels\n",
      "Vaccination schedule, spacing, or timing                          684\n",
      "Vaccines are mentioned positively                                 310\n",
      "Protection from disease                                           292\n",
      "About vaccines but does not fit any of the previous categories    278\n",
      "Adverse effects                                                   277\n",
      "Vaccines are mentioned negatively                                 126\n",
      "Seeking information about vaccines                                110\n",
      "Not about vaccines                                                 45\n",
      "Name: count, dtype: int64\n",
      "['Vaccination schedule, spacing, or timing'\n",
      " 'Vaccines are mentioned positively' 'Protection from disease'\n",
      " 'About vaccines but does not fit any of the previous categories'\n",
      " 'Vaccines are mentioned negatively' 'Seeking information about vaccines'\n",
      " 'Adverse effects']\n"
     ]
    }
   ],
   "source": [
    "import pandas as pd\n",
    "from textacy import preprocessing\n",
    "\n",
    "df2 = pd.read_csv('Batch_5298950_batch_results.csv')\n",
    "\n",
    "\n",
    "df2 = df2[['Input.text', 'Answer.category.labels']]\n",
    "# for all labels in Answer.category.labels containing a comma, split them into separate rows\n",
    "df2['Answer.category.labels'] = df2['Answer.category.labels'].str.split(',')\n",
    "df2 = df2.explode('Answer.category.labels')\n",
    "\n",
    "df = df2\n",
    "\n",
    "# remove Answer.category.labels with label count less than 2\n",
    "df = df.groupby('Answer.category.labels').filter(lambda x: len(x) > 1)\n",
    "print(df['Answer.category.labels'].value_counts())\n",
    "# turn into one-hot encoding\n",
    "# remove not about vaccines label\n",
    "df = df[df['Answer.category.labels'] != 'Not about vaccines']\n",
    "# print unique labels\n",
    "print(df['Answer.category.labels'].unique())\n",
    "df['Answer.category.labels'] = df['Answer.category.labels'].astype('category').cat.codes\n",
    "# merge rows on Input.text\n",
    "#df = df.groupby('Input.text').sum()\n",
    "\n",
    "# divide by sum of dummy columns to get percentage\n",
    "#df = df.div(df.sum(axis=1), axis=0)\n",
    "\n",
    "df3 = pd.read_csv(\"Batch_5298954_batch_results.csv\")\n",
    "df3 = df3[['Input.text', 'Answer.category.labels']]\n",
    "# remove \\ from Answer.category.labels\n",
    "df3['Answer.category.labels'] = df3['Answer.category.labels'].str.replace('\\\\', '')\n",
    "df3['Answer.category.labels'] = df3['Answer.category.labels'].str.split(',')\n",
    "# combine \"Vaccination schedule\", \"spacing\", \"or timing\" into one category\n",
    "df3['Answer.category.labels'] = df3['Answer.category.labels'].apply(lambda x: ['Vaccination schedule, spacing, or timing' if y in ['Vaccination schedule', ' spacing', ' or timing'] else y for y in x])\n",
    "df3 = df3.explode('Answer.category.labels')\n",
    "df3 = df3.groupby('Answer.category.labels').filter(lambda x: len(x) > 1)\n",
    "print(df3['Answer.category.labels'].value_counts())\n",
    "df3 = df3[df3['Answer.category.labels'] != 'Not about vaccines']\n",
    "print(df3['Answer.category.labels'].unique())\n",
    "df3['Answer.category.labels'] = df3['Answer.category.labels'].astype('category').cat.codes\n",
    "#df3 = df3.groupby('Input.text').sum()\n",
    "#df3 = df3.div(df3.sum(axis=1), axis=0)\n"
   ]
  },
  {
   "cell_type": "code",
   "execution_count": 59,
   "metadata": {},
   "outputs": [],
   "source": [
    "# map preprocessing.remove.punctuation to all Input.text\n",
    "df['Input.text'] = df['Input.text'].map(preprocessing.remove.punctuation)\n",
    "df3['Input.text'] = df3['Input.text'].map(preprocessing.remove.punctuation)\n",
    "\n",
    "df['Input.text'] = df['Input.text'].map(preprocessing.normalize.whitespace)\n",
    "df3['Input.text'] = df3['Input.text'].map(preprocessing.normalize.whitespace)\n",
    "\n",
    "df['Input.text'] = df['Input.text'].map(preprocessing.replace.urls)\n",
    "df3['Input.text'] = df3['Input.text'].map(preprocessing.replace.urls)\n",
    "\n",
    "df['Input.text'] = df['Input.text'].map(preprocessing.replace.emails)\n",
    "df3['Input.text'] = df3['Input.text'].map(preprocessing.replace.emails)\n",
    "\n",
    "df['Input.text'] = df['Input.text'].map(preprocessing.replace.phone_numbers)\n",
    "df3['Input.text'] = df3['Input.text'].map(preprocessing.replace.phone_numbers)\n",
    "\n"
   ]
  },
  {
   "cell_type": "code",
   "execution_count": 60,
   "metadata": {},
   "outputs": [],
   "source": [
    "# rename Input.text to text\n",
    "df.rename(columns={'Input.text': 'text'}, inplace=True)\n",
    "df3.rename(columns={'Input.text': 'text'}, inplace=True)\n",
    "\n",
    "# rename Answer.category.labels to label\n",
    "df.rename(columns={'Answer.category.labels': 'label'}, inplace=True)\n",
    "df3.rename(columns={'Answer.category.labels': 'label'}, inplace=True)"
   ]
  },
  {
   "cell_type": "code",
   "execution_count": 61,
   "metadata": {},
   "outputs": [],
   "source": [
    "# drop duplicates\n",
    "df = df.drop_duplicates()\n",
    "df3 = df3.drop_duplicates()\n",
    "\n"
   ]
  },
  {
   "cell_type": "code",
   "execution_count": 62,
   "metadata": {},
   "outputs": [],
   "source": [
    "df.to_csv('stance_labels.csv')\n",
    "df3.to_csv('behavior_labels.csv')"
   ]
  }
 ],
 "metadata": {
  "kernelspec": {
   "display_name": "base",
   "language": "python",
   "name": "python3"
  },
  "language_info": {
   "codemirror_mode": {
    "name": "ipython",
    "version": 3
   },
   "file_extension": ".py",
   "mimetype": "text/x-python",
   "name": "python",
   "nbconvert_exporter": "python",
   "pygments_lexer": "ipython3",
   "version": "3.12.7"
  }
 },
 "nbformat": 4,
 "nbformat_minor": 2
}
